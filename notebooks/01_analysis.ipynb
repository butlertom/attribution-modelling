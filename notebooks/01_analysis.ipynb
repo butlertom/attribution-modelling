{
 "cells": [
  {
   "cell_type": "markdown",
   "id": "27d5af8f",
   "metadata": {},
   "source": [
    "# Analysis\n",
    "\n",
    "Look into the data structure and visualise the attribution data."
   ]
  },
  {
   "cell_type": "code",
   "execution_count": null,
   "id": "58201af6",
   "metadata": {},
   "outputs": [],
   "source": [
    "cd .."
   ]
  },
  {
   "cell_type": "code",
   "execution_count": null,
   "id": "d1c0c1ba",
   "metadata": {},
   "outputs": [],
   "source": [
    "import pandas as pd\n",
    "import matplotlib.pyplot as plt\n",
    "from ChannelAttribution import heuristic_models, markov_model\n",
    "from src.utility import clean_data, summarise_paths"
   ]
  },
  {
   "cell_type": "code",
   "execution_count": null,
   "id": "aa78fca5",
   "metadata": {},
   "outputs": [],
   "source": [
    "df = pd.read_csv(\"data/attribution data.csv\")\n",
    "df = clean_data(df)"
   ]
  },
  {
   "cell_type": "code",
   "execution_count": null,
   "id": "bd373711",
   "metadata": {},
   "outputs": [],
   "source": [
    "df_agg = summarise_paths(df)"
   ]
  },
  {
   "cell_type": "markdown",
   "id": "88bea430",
   "metadata": {},
   "source": [
    "### Plot the number of conversions over time"
   ]
  },
  {
   "cell_type": "code",
   "execution_count": null,
   "id": "cfe1983a",
   "metadata": {},
   "outputs": [],
   "source": [
    "fig, ax = plt.subplots(figsize=(8, 3))\n",
    "\n",
    "conversions = (\n",
    "    df\n",
    "    .query(\"conversion == 1\")\n",
    "    .groupby(\"date\", as_index=False)\n",
    "    .agg(conversions=pd.NamedAgg(\"conversion\", \"sum\"))\n",
    ")\n",
    "\n",
    "ax.plot(\n",
    "    conversions[\"date\"],\n",
    "    conversions[\"conversions\"],\n",
    "    marker=\"o\",\n",
    "    markersize=5,\n",
    ")\n",
    "ax.grid(True, alpha=.3)\n",
    "plt.show()"
   ]
  },
  {
   "cell_type": "markdown",
   "id": "d3234007",
   "metadata": {},
   "source": [
    "### Apply the channel attribution modelling package"
   ]
  },
  {
   "cell_type": "code",
   "execution_count": null,
   "id": "fd7dd732",
   "metadata": {},
   "outputs": [],
   "source": [
    "df_agg.iloc[:1]"
   ]
  },
  {
   "cell_type": "code",
   "execution_count": null,
   "id": "b2f58014",
   "metadata": {},
   "outputs": [],
   "source": [
    "# crete an attribution dataframe that is grouped by the path\n",
    "df_attr = (\n",
    "    df_agg.groupby([\"path\"], as_index=False)\n",
    "    .agg(\n",
    "        volume=pd.NamedAgg(\"path\", \"count\"),\n",
    "        conversion=pd.NamedAgg(\"conversion\", \"sum\"),\n",
    "        conversion_value=pd.NamedAgg(\"conversion_value\", \"sum\"),\n",
    "    )\n",
    ")"
   ]
  },
  {
   "cell_type": "code",
   "execution_count": null,
   "id": "b4d327df",
   "metadata": {},
   "outputs": [],
   "source": [
    "%%time\n",
    "H = heuristic_models(\n",
    "    Data=df_agg,\n",
    "    var_path=\"path\",\n",
    "    var_conv=\"conversion\",\n",
    "    var_value=\"conversion_value\",\n",
    ")"
   ]
  },
  {
   "cell_type": "code",
   "execution_count": null,
   "id": "1b4e6c68",
   "metadata": {},
   "outputs": [],
   "source": [
    "%%time\n",
    "M = markov_model(\n",
    "    Data=df_agg,\n",
    "    var_path=\"path\",\n",
    "    var_conv=\"conversion\",\n",
    "    var_value=\"conversion_value\",\n",
    ")"
   ]
  },
  {
   "cell_type": "code",
   "execution_count": null,
   "id": "66059f66",
   "metadata": {},
   "outputs": [],
   "source": [
    "results = pd.merge(H, M, on=\"channel_name\", how=\"inner\")"
   ]
  },
  {
   "cell_type": "code",
   "execution_count": null,
   "id": "cc1cba51",
   "metadata": {},
   "outputs": [],
   "source": [
    "results.set_index(\"channel_name\", inplace=True)"
   ]
  },
  {
   "cell_type": "code",
   "execution_count": null,
   "id": "6a1a97c1",
   "metadata": {},
   "outputs": [],
   "source": [
    "fig, ax = plt.subplots(figsize=(10, 5))\n",
    "\n",
    "ax.bar(\n",
    "    results.index,\n",
    "    results\n",
    ")"
   ]
  },
  {
   "cell_type": "code",
   "execution_count": null,
   "id": "374c99ab",
   "metadata": {},
   "outputs": [],
   "source": [
    "results.filter(like=\"value\")"
   ]
  }
 ],
 "metadata": {
  "kernelspec": {
   "display_name": "self-analysis py38",
   "language": "python",
   "name": "self_analysis"
  },
  "language_info": {
   "codemirror_mode": {
    "name": "ipython",
    "version": 3
   },
   "file_extension": ".py",
   "mimetype": "text/x-python",
   "name": "python",
   "nbconvert_exporter": "python",
   "pygments_lexer": "ipython3",
   "version": "3.8.15"
  }
 },
 "nbformat": 4,
 "nbformat_minor": 5
}
